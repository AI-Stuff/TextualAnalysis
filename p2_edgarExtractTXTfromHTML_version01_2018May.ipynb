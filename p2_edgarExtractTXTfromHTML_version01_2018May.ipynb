{
 "cells": [
  {
   "cell_type": "markdown",
   "metadata": {},
   "source": [
    "This program starts with a directory that has HTML files of 10-K MD&As, extracts sentances from these filings and writes them in text files (each sentence in one line).\n",
    "\n",
    "Murat Aydogdu \n",
    "May 15, 2018\n",
    "\n",
    "I started from a tutorial \n",
    "http://community.mis.temple.edu/zuyinzheng/files/2016/07/Tutorial-2-Extracting-Data-from-10-K.pdf\n",
    "and modified the code substantially.\n",
    "\n",
    "This version: I separated the part of the code that extracts Item 7s from 10Ks in HTML format and saves them in files. this program will start with that directory and extract sentences form those HTML files."
   ]
  },
  {
   "cell_type": "code",
   "execution_count": 1,
   "metadata": {},
   "outputs": [],
   "source": [
    "import os, csv, urllib2, time, re \n",
    "from bs4 import BeautifulSoup   \n",
    "import pandas as pd"
   ]
  },
  {
   "cell_type": "code",
   "execution_count": 2,
   "metadata": {},
   "outputs": [],
   "source": [
    "import sys  \n",
    "reload(sys)  \n",
    "sys.setdefaultencoding('utf8')\n",
    "import nltk\n",
    "from nltk.tokenize import sent_tokenize"
   ]
  },
  {
   "cell_type": "code",
   "execution_count": 3,
   "metadata": {},
   "outputs": [],
   "source": [
    "os.chdir('/Users/murataydogdu/Desktop/TextualAnalysis/Version1_2018June_Programs')\n",
    "!pwd"
   ]
  },
  {
   "cell_type": "code",
   "execution_count": 4,
   "metadata": {},
   "outputs": [],
   "source": [
    "# Obtain the names of all the text files in the directory.\n",
    "# Normally, there should be nothing else here\n",
    "htmlfiles = []\n",
    "for file in os.listdir(\"HTML\"):\n",
    "    if file.endswith(\".htm\"):\n",
    "        htmlfiles.append(file)"
   ]
  },
  {
   "cell_type": "code",
   "execution_count": 88,
   "metadata": {},
   "outputs": [],
   "source": [
    "#htmlfiles"
   ]
  },
  {
   "cell_type": "code",
   "execution_count": 5,
   "metadata": {},
   "outputs": [
    {
     "data": {
      "text/plain": [
       "'Mon Jun  4 16:29:19 2018'"
      ]
     },
     "execution_count": 5,
     "metadata": {},
     "output_type": "execute_result"
    }
   ],
   "source": [
    "time.ctime()"
   ]
  },
  {
   "cell_type": "code",
   "execution_count": 95,
   "metadata": {},
   "outputs": [],
   "source": [
    "# Get the list of \n",
    "txtSubPath = \"TXT/\"\n",
    "cnt = 1\n",
    "for htmlfile in htmlfiles:\n",
    "    #print (htmlfile)\n",
    "    s = BeautifulSoup(open(os.path.join('HTML', htmlfile)), \"html.parser\")\n",
    "    i += 1\n",
    "    \n",
    "    txtname = htmlfile.split(\".\")[0]+\".txt\"\n",
    "    txtpath = txtSubPath+txtname\n",
    "    print (txtpath, cnt, len(htmlfiles))\n",
    "    extractItem7text(s, txtpath)\n",
    "    cnt += 1"
   ]
  },
  {
   "cell_type": "code",
   "execution_count": 91,
   "metadata": {},
   "outputs": [],
   "source": [
    "# This function extracts all text from the HTML file (Item 7)\n",
    "# and writes them out as sentences with newline endings\n",
    "# into a text file.\n",
    "def extractItem7text(page, txtpath):\n",
    "    for table in page.find_all(\"table\"): # Remove tables\n",
    "        table.extract()\n",
    "    for div in page.find_all(\"div\"): # This is mostly where the text is\n",
    "        div.unwrap()\n",
    "    rawText = page.text.encode('utf8')\n",
    "    rawText = rawText.replace('\\n', ' ')\n",
    "    sentences = sent_tokenize(rawText)\n",
    "    output_file = open(txtpath, \"w\")\n",
    "\n",
    "    for sentence in sentences:\n",
    "        sentence = \" \".join(sentence.split())\n",
    "        sent = sentence + '\\n'\n",
    "        #print(sent)\n",
    "        output_file.write(sent)\n",
    "    output_file.close()\n",
    "    return"
   ]
  },
  {
   "cell_type": "code",
   "execution_count": null,
   "metadata": {},
   "outputs": [],
   "source": [
    "time.ctime()"
   ]
  }
 ],
 "metadata": {
  "kernelspec": {
   "display_name": "Python 3",
   "language": "python",
   "name": "python3"
  },
  "language_info": {
   "codemirror_mode": {
    "name": "ipython",
    "version": 2
   },
   "file_extension": ".py",
   "mimetype": "text/x-python",
   "name": "python",
   "nbconvert_exporter": "python",
   "pygments_lexer": "ipython2",
   "version": "2.7.15"
  }
 },
 "nbformat": 4,
 "nbformat_minor": 2
}
